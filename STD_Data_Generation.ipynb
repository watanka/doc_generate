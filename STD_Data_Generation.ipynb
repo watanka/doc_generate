{
 "cells": [
  {
   "cell_type": "code",
   "execution_count": 1,
   "metadata": {
    "scrolled": true
   },
  
   ],
   "source": [
    "import sys\n",
    "from tqdm import tqdm\n",
    "import matplotlib.pyplot as plt\n",
    "sys.path.append('../module/doc_generate/')\n",
    "\n",
    "import main\n",
    "\n",
    "iteration = 300\n",
    "for i in tqdm(range(iteration)) :\n",
    "    g = main.save( txt_dir = '/home/jovyan/work/old_nas/workspace/3_project_data/TwinReader/augdata/textdata4full_lines/navernews/',\n",
    "             save_dir = '/home/jovyan/work/1_user/eunsung.shin@agilesoda.ai/data/STD_sample',\n",
    "             page_dir =  '/home/jovyan/work/old_nas/workspace/3_project_data/TwinReader/augdata/wrinkle' ,\n",
    "             bbox_level = ['char', 'word']\n",
    "            )"
   ]
  },
  {
   "cell_type": "code",
   "execution_count": null,
   "metadata": {},
   "outputs": [],
   "source": [
    "'''\n",
    "g.page_info\n",
    "g.template\n",
    "    - list of Corpus Objects\n",
    "        .get_bbox\n",
    "        .show_bbox\n",
    "        .objs\n",
    "        등 Text_Objects.py 참고\n",
    "g.angle\n",
    "'''"
   ]
  },
  {
   "cell_type": "code",
   "execution_count": null,
   "metadata": {},
   "outputs": [],
   "source": [
    "g.get_bbox('word')"
   ]
  },
  {
   "cell_type": "markdown",
   "metadata": {},
   "source": [
    "### Extract {text, coordinates} from .docx "
   ]
  },
  {
   "cell_type": "code",
   "execution_count": null,
   "metadata": {},
   "outputs": [],
   "source": [
    "from docx import Document\n",
    "import base64\n",
    "\n",
    "doc = Document('../../data/sample.docx')\n",
    "\n",
    "paraGr = []             \n",
    "index = []\n",
    "\n",
    "par = doc.paragraphs\n",
    "print(help(par[0]))\n",
    "\n",
    "\n",
    "# from docx_utils.flatten import opc_to_flat_opc\n",
    "\n",
    "# opc_to_flat_opc('../../data/sample.docx', '../../data/sample.xml')\n"
   ]
  },
  {
   "cell_type": "code",
   "execution_count": null,
   "metadata": {},
   "outputs": [],
   "source": [
    "print(par[0].part)\n",
    "\n",
    "par[0].part.rels['rId1']"
   ]
  },
  {
   "cell_type": "code",
   "execution_count": null,
   "metadata": {},
   "outputs": [],
   "source": [
    "# parse xml\n",
    "import xml.etree.ElementTree as ET\n",
    "tree = ET.parse('../../data/sample.xml')\n",
    "root = tree.getroot()\n"
   ]
  },
  {
   "cell_type": "code",
   "execution_count": null,
   "metadata": {},
   "outputs": [],
   "source": [
    "# for children in root.getchildren() :\n",
    "#     children.findall()\n",
    "    \n",
    "elems = list(root)\n",
    "\n",
    "for i in elems[0] :\n",
    "    print(i)\n",
    "    for _ in i.findall('*') :\n",
    "        print(_)\n",
    "    "
   ]
  },
  {
   "cell_type": "code",
   "execution_count": null,
   "metadata": {},
   "outputs": [],
   "source": [
    "from glob import glob\n",
    "\n",
    "txt_dir = glob('/home/jovyan/work/3_project_data/TwinReader/augdata/textdata4full_lines/navernews/*.txt')\n",
    "page_dir = glob('/home/jovyan/work/1_user/eunsung.shin@agilesoda.ai/data/image_quilt/*.jpg')\n",
    "\n",
    "with open(txt_dir[0]) as f :\n",
    "    txtfile = f.read()\n",
    "\n",
    "pagefile = page_dir[0]"
   ]
  },
  {
   "cell_type": "markdown",
   "metadata": {},
   "source": [
    "## Show BBOX"
   ]
  },
  {
   "cell_type": "code",
   "execution_count": 3,
   "metadata": {},
   "outputs": [],
   "source": [
    "from glob import glob\n",
    "from PIL import Image, ImageDraw\n",
    "import random\n",
    "import os\n",
    "\n",
    "# img_dir = glob('/home/jovyan/work/3_project_data/TwinReader/augdata/sample_fixed/img/*.jpg')\n",
    "# random.shuffle(img_dir)\n",
    "# samp_imgfile = img_dir[0]\n",
    "# bbox_txt = samp_imgfile.replace('img', 'gt').replace('.jpg', '.txt')\n",
    "\n",
    "def read_bbox(txt) :\n",
    "\n",
    "    with open(txt) as f :\n",
    "        data = f.read().split('\\n')\n",
    "    bboxes = []\n",
    "    for d in data :\n",
    "        \n",
    "        box_values = d.split('\\t')\n",
    "        # if space, skip the labeling\n",
    "        label = box_values[0]\n",
    "        if label.strip() == '' :\n",
    "            continue\n",
    "        coord = [float(_) for _ in box_values[1:]]\n",
    "        \n",
    "        dic = {'label' : label,\n",
    "               'coords' : coord}\n",
    "        bboxes.append(dic)\n",
    "    return bboxes\n",
    "\n",
    "\n",
    "def show_bbox(imgfile, bbox_file) :\n",
    "    img = Image.open(imgfile)\n",
    "    draw = ImageDraw.Draw(img)\n",
    "\n",
    "    bboxes = read_bbox(bbox_file)\n",
    "    \n",
    "    angle = int(os.path.basename(imgfile).split('_')[0].replace('augdoc',''))\n",
    "    \n",
    "    if angle == 0 :\n",
    "        for bbox in bboxes :\n",
    "            draw.rectangle(bbox['coords'], outline = (0,255,0))\n",
    "    else :\n",
    "        for bbox in bboxes :\n",
    "            draw.polygon(bbox['coords'], outline = (0,255,0))\n",
    "        \n",
    "    return img"
   ]
  },
  {
   "cell_type": "code",
   "execution_count": 2,
   "metadata": {},
   "outputs": [
    {
     "ename": "FileNotFoundError",
     "evalue": "[Errno 2] No such file or directory: '../../data/STD_sample/img/augdoc-2_10ed02e71b4048c.jpg'",
     "output_type": "error",
     "traceback": [
      "\u001b[0;31m---------------------------------------------------------------------------\u001b[0m",
      "\u001b[0;31mFileNotFoundError\u001b[0m                         Traceback (most recent call last)",
      "\u001b[0;32m<ipython-input-2-b18fb2c27d86>\u001b[0m in \u001b[0;36m<module>\u001b[0;34m\u001b[0m\n\u001b[0;32m----> 1\u001b[0;31m \u001b[0mshow_bbox\u001b[0m\u001b[0;34m(\u001b[0m\u001b[0;34m'../../data/STD_sample/img/augdoc-2_10ed02e71b4048c.jpg'\u001b[0m\u001b[0;34m,\u001b[0m\u001b[0;34m'../../data/STD_sample/gt/augdoc-2_10ed02e71b4048c_char.txt'\u001b[0m\u001b[0;34m)\u001b[0m\u001b[0;34m\u001b[0m\u001b[0;34m\u001b[0m\u001b[0m\n\u001b[0m",
      "\u001b[0;32m<ipython-input-1-2f743437e768>\u001b[0m in \u001b[0;36mshow_bbox\u001b[0;34m(imgfile, bbox_file)\u001b[0m\n\u001b[1;32m     30\u001b[0m \u001b[0;34m\u001b[0m\u001b[0m\n\u001b[1;32m     31\u001b[0m \u001b[0;32mdef\u001b[0m \u001b[0mshow_bbox\u001b[0m\u001b[0;34m(\u001b[0m\u001b[0mimgfile\u001b[0m\u001b[0;34m,\u001b[0m \u001b[0mbbox_file\u001b[0m\u001b[0;34m)\u001b[0m \u001b[0;34m:\u001b[0m\u001b[0;34m\u001b[0m\u001b[0;34m\u001b[0m\u001b[0m\n\u001b[0;32m---> 32\u001b[0;31m     \u001b[0mimg\u001b[0m \u001b[0;34m=\u001b[0m \u001b[0mImage\u001b[0m\u001b[0;34m.\u001b[0m\u001b[0mopen\u001b[0m\u001b[0;34m(\u001b[0m\u001b[0mimgfile\u001b[0m\u001b[0;34m)\u001b[0m\u001b[0;34m\u001b[0m\u001b[0;34m\u001b[0m\u001b[0m\n\u001b[0m\u001b[1;32m     33\u001b[0m     \u001b[0mdraw\u001b[0m \u001b[0;34m=\u001b[0m \u001b[0mImageDraw\u001b[0m\u001b[0;34m.\u001b[0m\u001b[0mDraw\u001b[0m\u001b[0;34m(\u001b[0m\u001b[0mimg\u001b[0m\u001b[0;34m)\u001b[0m\u001b[0;34m\u001b[0m\u001b[0;34m\u001b[0m\u001b[0m\n\u001b[1;32m     34\u001b[0m \u001b[0;34m\u001b[0m\u001b[0m\n",
      "\u001b[0;32m/opt/conda/lib/python3.8/site-packages/PIL/Image.py\u001b[0m in \u001b[0;36mopen\u001b[0;34m(fp, mode, formats)\u001b[0m\n\u001b[1;32m   2902\u001b[0m \u001b[0;34m\u001b[0m\u001b[0m\n\u001b[1;32m   2903\u001b[0m     \u001b[0;32mif\u001b[0m \u001b[0mfilename\u001b[0m\u001b[0;34m:\u001b[0m\u001b[0;34m\u001b[0m\u001b[0;34m\u001b[0m\u001b[0m\n\u001b[0;32m-> 2904\u001b[0;31m         \u001b[0mfp\u001b[0m \u001b[0;34m=\u001b[0m \u001b[0mbuiltins\u001b[0m\u001b[0;34m.\u001b[0m\u001b[0mopen\u001b[0m\u001b[0;34m(\u001b[0m\u001b[0mfilename\u001b[0m\u001b[0;34m,\u001b[0m \u001b[0;34m\"rb\"\u001b[0m\u001b[0;34m)\u001b[0m\u001b[0;34m\u001b[0m\u001b[0;34m\u001b[0m\u001b[0m\n\u001b[0m\u001b[1;32m   2905\u001b[0m         \u001b[0mexclusive_fp\u001b[0m \u001b[0;34m=\u001b[0m \u001b[0;32mTrue\u001b[0m\u001b[0;34m\u001b[0m\u001b[0;34m\u001b[0m\u001b[0m\n\u001b[1;32m   2906\u001b[0m \u001b[0;34m\u001b[0m\u001b[0m\n",
      "\u001b[0;31mFileNotFoundError\u001b[0m: [Errno 2] No such file or directory: '../../data/STD_sample/img/augdoc-2_10ed02e71b4048c.jpg'"
     ]
    }
   ],
   "source": [
    "show_bbox('../../data/STD_sample/img/augdoc-2_10ed02e71b4048c.jpg','../../data/STD_sample/gt/augdoc-2_10ed02e71b4048c_char.txt')"
   ]
  },
  {
   "cell_type": "code",
   "execution_count": null,
   "metadata": {},
   "outputs": [],
   "source": [
    "random.shuffle(img_dir)\n",
    "\n",
    "res_dir = '/home/jovyan/work/3_project_data/TwinReader/augdata/sample_fixed/gtresult'\n",
    "\n",
    "imgfiles = img_dir\n",
    "for imgfile in imgfiles :\n",
    "    bbox_txt = imgfile.replace('img', 'gt').replace('.jpg', '.txt')\n",
    "    res = show_bbox(imgfile, bbox_txt)\n",
    "    res.save(os.path.join(res_dir,os.path.basename(imgfile)))\n"
   ]
  },
  {
   "cell_type": "code",
   "execution_count": null,
   "metadata": {},
   "outputs": [],
   "source": [
    "5%2"
   ]
  },
  {
   "cell_type": "code",
   "execution_count": null,
   "metadata": {},
   "outputs": [],
   "source": [
    "import cv2\n",
    "random.shuffle(img_dir)\n",
    "samp_imgfile = img_dir[0]\n",
    "\n",
    "samp_img = plt.imread(samp_imgfile)\n",
    "samp_img = cv2.cvtColor(samp_img, cv2.COLOR_BGR2GRAY)\n",
    "_, thresh = cv2.threshold(samp_img,0, 255, cv2.THRESH_BINARY )\n",
    "kernel = np.ones((3,3),np.uint8)\n",
    "opening = cv2.morphologyEx(thresh,cv2.MORPH_OPEN, kernel, iterations = 2)\n",
    "\n",
    "# sure background area\n",
    "sure_bg = cv2.dilate(opening,kernel,iterations=3)\n",
    "\n",
    "# Finding sure foreground area\n",
    "dist_transform = cv2.distanceTransform(opening,cv2.DIST_L2,5)\n",
    "ret, sure_fg = cv2.threshold(dist_transform,0.7*dist_transform.max(),255,0)\n",
    "\n",
    "# Finding unknown region\n",
    "sure_fg = np.uint8(sure_fg)\n",
    "unknown = cv2.subtract(sure_bg,sure_fg)"
   ]
  },
  {
   "cell_type": "code",
   "execution_count": null,
   "metadata": {},
   "outputs": [],
   "source": [
    "plt.figure(figsize = (15,15))\n",
    "plt.imshow(dist_transform)\n",
    "\n",
    "plt.show()\n",
    "plt.figure(figsize = (15,15))\n",
    "plt.imshow(samp_img)"
   ]
  },
  {
   "cell_type": "code",
   "execution_count": null,
   "metadata": {},
   "outputs": [],
   "source": [
    "opening"
   ]
  },
  {
   "cell_type": "code",
   "execution_count": null,
   "metadata": {},
   "outputs": [],
   "source": [
    "import string\n",
    "\n",
    "str_list = ''.join(set(string.printable[:-5]+'가각간갇갈감갑값갓갔강갖같갚갛개객갠갤갬갭갯갱갸걀걍거걱건걷걸검겁것겅겉겊게겐겔겜겟겠겨격겪견결겸겹겼경곁계고곡곤곧골곰곱곳공곶과곽관괄괌광괘괜괭괴굉교구국군굳굴굵굶굼굽굿궁궂궈권궐궤귀귄귈귓규균귤그극근글긁금급긋긍긔기긴길김깁깃깅깊까깍깎깐깔깜깝깡깥깨깬깻깼깽꺄꺅꺼꺽꺾껀껄껌껍껏껑께껫껴꼈꼐꼬꼭꼰꼴꼼꼽꼿꽁꽂꽃꽈꽉꽝꽤꾀꾸꾹꾼꿀꿇꿈꿉꿋꿍꿔꿨꿩꿰뀌뀐뀔뀜뀝끄끈끊끌끓끔끗끙끝끼끽낀낄낌낍나낙낚난날낡남납낫났낭낮낯낱낳내낵낸낼냄냅냇냈냉냐냠냥너넉넋넌널넓넘넙넛넝넣네넥넨넬넴넵넷넹녀녁년념녔녕녘녜노녹논놀놈놉놋농높놓놔놨뇌뇨뇰뇽누눅눈눌눔눕눗눠눴뉘뉜뉴늄느늑는늘늙늠능늦늪늬니닉닌닐님닙닛닝다닥닦단닫달닭닮닳담답닷당닿대댁댄댈댐댑댓댔댕더덕던덜덟덤덥덧덩덫덮데덱덴델뎀뎁뎃뎅뎌도독돈돋돌돔돕돗동돛돠돼됐되된될됨됩두둑둔둘둠둡둥둬뒀뒤뒷뒹듀듄듈듐드득든듣들듦듬듭듯등듸디딕딘딛딜딤딥딧딩딪따딱딴딸땀땄땅때땐땜땠땡떠떡떤떨떫떳떴떵떻떼뗄또똑똘똥뚜뚝뚤뚫뚱뛰뛴뛸뜨뜩뜬뜯뜰뜸뜹뜻띄띈띠띤띵라락란랄람랍랏랐랑랗래랙랜랠램랩랫랬랭랴략량러럭런럴럼럽럿렀렁렇레렉렌렐렘렙렛렝려력련렬렴렵렷렸령례롄로록론롤롬롭롯롱뢰료룡루룩룬룰룸룹룻룽뤄뤘뤼뤽류륙륜률륨륭르륵른를름릅릇릉릎리릭린릴림립릿링마막만많맏말맑맘맙맛망맞맡맣매맥맨맬맴맵맷맹맺먀머먹먼멀멈멋멍멎메멕멘멜멤멧멩며멱면멸몄명몇모목몫몬몰몸몹못몽뫼묘무묵묶문묻물뭄뭇뭉뭍뭐뭔뭘뭡뭣뮈뮌뮐뮤뮬뮴므믄믈미믹민믿밀밈밉밋밌밍및밑바박밖반받발밝밟밤밥밧방밭배백밴밸뱀뱃뱅뱉뱌버벅번벌범법벗벙벚베벡벤벨벳벵벼벽변별볍볏병볕보복볶본볼봄봅봇봉봐봤뵈뵐뵙부북분불붉붐붓붕붙뷔뷰뷸브븐블비빅빈빌빔빕빗빙빚빛빠빡빤빨빰빳빴빵빼빽뺀뺄뺏뺐뺑뺨뻐뻑뻔뻗뻘뻣뻤뻥뻬뼈뽀뽐뽑뽕뾰뿅뿌뿍뿐뿔뿜뿡쁘쁜쁠쁨쁩삐삘사삭산살삶삼삽삿샀상샅새색샌샐샘샛생샤샥샨샬샴샵샷샹섀서석섞선섣설섬섭섯섰성섶세섹센셀셈셉셋셍셔션셜셧셨셰셴셸소속손솔솜솝솟송솥쇄쇠쇤쇼숀숄숍숏숑수숙순숟술숨숫숭숯숱숲숴쉐쉘쉬쉰쉴쉼쉽쉿슈슐슘슛슝스슥슨슬슭슴습슷승시식신싣실싫심십싯싱싶싸싹싼쌀쌈쌉쌌쌍쌓쌔쌕쌤쌩써썩썬썰썸썹썼썽쎄쎈쏘쏙쏜쏟쏠쏭쏴쐐쐬쑈쑤쑥쑨쑹쓰쓱쓴쓸씀씁씌씨씩씬씰씸씹씻씽아악안앉않알앍앓암압앗았앙앞애액앤앨앰앱앳앵야약얀얄얇얌얍얏양얕얗얘어억언얹얻얼얽엄업없엇었엉엊엌엎에엑엔엘엠엡엣엥여역엮연열엷염엽엿였영옅옆예옌옐옙옛오옥온올옮옳옴옵옷옹옻와왁완왈왑왓왔왕왜왠외왼요욕욘욜욤욥욧용우욱운울움웁웃웅워웍원월웜웠웨웬웰웹웽위윅윈윌윔윗윙유육윤율융윷으윽은을읊음읍응의이익인일읽잃임입잇있잉잊잎자작잔잖잘잠잡잣잤장잦재잭잰잼잿쟁쟈쟌쟝쟤저적전절젊점접젓정젖제젝젠젤젬젯져젼졌조족존졸좀좁종좆좇좋좌좡죄죠죤주죽준줄줌줍줏중줘줬쥐쥔쥘쥬쥰쥴즈즉즌즐즘즙증지직진질짊짐집짓징짖짙짚짜짝짠짤짧짬짭짱째짹쨈쨋쨌쨩쩌쩍쩐쩔쩜쩝쩡쩨쪄쪼쪽쫀쫄쫌쫑쫓쫙쬐쭈쭉쭘쭤쮸쯔쯤쯧찌찍찐찔찜찝찡찢차착찬찮찰참찹찻찼창찾채책챈챌챔챕챙챠챤처척천철첨첩첫청체첵첸첼쳇쳐쳤초촉촌촐촘촛총촨촬최쵸추축춘춛출춤춥춧충춰췄췌취츄츠측츤츨츰층치칙친칠칡침칩칫칭카칵칸칼캄캅캇캉캐캔캘캠캡캣캥캬커컥컨컫컬컴컵컷컸컹케켄켈켐켓켜켠켤켰코콕콘콜콤콥콧콩콰콱콴쾅쾌쾨쾰쿄쿠쿡쿤쿨쿰쿵쿼퀀퀄퀘퀴퀵퀸퀼큐큘크큭큰클큼큽키킥킨킬킴킵킷킹타탁탄탈탉탐탑탓탔탕태택탠탤탬탭탯탱터턱턴털텀텁텃텅테텍텐텔템텝텟텡텨톈토톡톤톨톰톱통퇴투툭툰툴툼퉁퉈퉤튀튄튕튜튠튤튬트특튼튿틀틈틋티틱틴틸팀팁팅파팍팎판팔팜팝팟팠팡팥패팩팬팰팸팹팻팽퍼퍽펀펄펌펑페펙펜펠펩펫펭펴편펼폄폈평폐포폭폰폴폼퐁표푸푹푼풀품풋풍퓌퓨퓰프픈플픔피픽핀필핌핍핏핑하학한할핥함합핫항해핵핸핼햄햅햇했행햐향허헉헌헐험헛헝헤헥헨헬헴헵헷헹혀혁현혈혐협혔형혜호혹혼홀홈홉홋홍홑화확환활홧황횃회획횟횡효후훅훈훌훑훔훗훙훠훤훨훼휀휘휙휜휠휩휴휼흄흉흐흑흔흘흙흠흡흣흥흩희흰히힉힌힐힘힙힛힝'))\n",
    "\n"
   ]
  },
  {
   "cell_type": "code",
   "execution_count": null,
   "metadata": {},
   "outputs": [],
   "source": [
    "str_list"
   ]
  },
  {
   "cell_type": "code",
   "execution_count": null,
   "metadata": {},
   "outputs": [],
   "source": [
    "lst = '가나 다라'\n",
    "str_list = '가나 라마'\n",
    "list(map(lambda c: c if c in str_list else '*'+c+'*', lst))"
   ]
  },
  {
   "cell_type": "code",
   "execution_count": null,
   "metadata": {},
   "outputs": [],
   "source": [
    "from PIL import Image\n",
    "\n",
    "img = Image.new('RGB', (200,200),'white')"
   ]
  },
  {
   "cell_type": "code",
   "execution_count": null,
   "metadata": {},
   "outputs": [],
   "source": [
    "import numpy as np\n",
    "np.zeros((200,200)).size"
   ]
  },
  {
   "cell_type": "code",
   "execution_count": null,
   "metadata": {},
   "outputs": [],
   "source": [
    "import os, shutil\n",
    "from glob import glob\n",
    "\n",
    "bgfiles = glob('/home/jovyan/work/2_shared/TwinReader/doc_creator_background_sample/*.png')\n",
    "move_dir = '/home/jovyan/work/3_project_data/TwinReader/augdata/wrinkle'\n",
    "# for file in bgfiles :\n",
    "#     shutil.copy(file, os.path.join(move_dir, os.path.basename(file)))"
   ]
  },
  {
   "cell_type": "code",
   "execution_count": null,
   "metadata": {},
   "outputs": [],
   "source": [
    "import matplotlib.pyplot as plt\n",
    "img = plt.imread(bgfiles[0])\n",
    "\n",
    "img"
   ]
  },
  {
   "cell_type": "code",
   "execution_count": null,
   "metadata": {},
   "outputs": [],
   "source": []
  },
  {
   "cell_type": "code",
   "execution_count": null,
   "metadata": {},
   "outputs": [],
   "source": [
    "txt_dir = '/home/jovyan/work/3_project_data/TwinReader/augdata/textdata4full_lines/ko_wiki/*'\n",
    "\n",
    "str_ls = ''\n",
    "txts = glob(txt_dir)\n",
    "for txt in txts :\n",
    "    with open(txt) as f :\n",
    "        data = f.read()\n",
    "        str_ls+=data\n"
   ]
  },
  {
   "cell_type": "code",
   "execution_count": null,
   "metadata": {},
   "outputs": [],
   "source": [
    "wiki_chars = ''.join(list(set(str_ls)))"
   ]
  },
  {
   "cell_type": "code",
   "execution_count": null,
   "metadata": {},
   "outputs": [],
   "source": [
    "nondic_chars = [_ for _ in wiki_chars if _ not in str_list]"
   ]
  },
  {
   "cell_type": "code",
   "execution_count": null,
   "metadata": {},
   "outputs": [],
   "source": [
    "print(''.join(nondic_chars))"
   ]
  },
  {
   "cell_type": "code",
   "execution_count": null,
   "metadata": {},
   "outputs": [],
   "source": [
    "'str'.endswith('str')"
   ]
  },
  {
   "cell_type": "code",
   "execution_count": null,
   "metadata": {},
   "outputs": [],
   "source": [
    "import re\n",
    "\n",
    "re.sub('가나다', '', '가나다라마바')"
   ]
  },
  {
   "cell_type": "code",
   "execution_count": null,
   "metadata": {},
   "outputs": [],
   "source": [
    "from PIL import Image\n",
    "import numpy as np\n",
    "import cv2\n",
    "\n",
    "img = cv2.imread('../../data/STD_sample/img/augdoc1_4e831773201f4f1.jpg')\n",
    "\n",
    "def rotate(img_arr, angle, level = 'word') :\n",
    "    # rotate and update bbox coordinates\n",
    "    w,h = img.shape[:2]\n",
    "    rot = cv2.getRotationMatrix2D((w/2, h/2) , angle, 1)\n",
    "\n",
    "    dst = cv2.warpAffine(img_arr, rot, (0,0), borderMode = cv2.BORDER_REPLICATE)\n",
    "\n",
    "    dst_pil = Image.fromarray( dst.astype(np.uint8))\n",
    "    \n",
    "    return dst_pil"
   ]
  },
  {
   "cell_type": "code",
   "execution_count": null,
   "metadata": {},
   "outputs": [],
   "source": [
    "rotate(img, 3)"
   ]
  },
  {
   "cell_type": "code",
   "execution_count": null,
   "metadata": {},
   "outputs": [],
   "source": [
    "def rotate_im(image, angle) :\n",
    "    image_height = image.shape[0]\n",
    "    image_width = image.shape[1]\n",
    "    diagonal_square = (image_width*image_width) + (\n",
    "        image_height* image_height\n",
    "    )\n",
    "    #\n",
    "    diagonal = round(np.sqrt(diagonal_square))\n",
    "    padding_top = round((diagonal-image_height) / 2)\n",
    "    padding_bottom = round((diagonal-image_height) / 2)\n",
    "    padding_right = round((diagonal-image_width) / 2)\n",
    "    padding_left = round((diagonal-image_width) / 2)\n",
    "    padded_image = cv2.copyMakeBorder(image,\n",
    "                                      top=20,\n",
    "                                      bottom=20,\n",
    "                                      left=20,\n",
    "                                      right=20,\n",
    "                                      borderType=cv2.BORDER_CONSTANT,\n",
    "                                      value=(255., 255., 255.)\n",
    "            )\n",
    "    padded_height = padded_image.shape[0]\n",
    "    padded_width = padded_image.shape[1]\n",
    "    transform_matrix = cv2.getRotationMatrix2D(\n",
    "                (padded_height/2,\n",
    "                 padded_width/2), # center\n",
    "                angle, # angle\n",
    "      1.0) # scale\n",
    "    rotated_image = cv2.warpAffine(padded_image,\n",
    "                                   transform_matrix,\n",
    "                                   (0, 0),\n",
    "                                   flags=cv2.INTER_LANCZOS4)\n",
    "    return rotated_image"
   ]
  },
  {
   "cell_type": "code",
   "execution_count": null,
   "metadata": {},
   "outputs": [],
   "source": [
    "plt.figure(figsize = (15,15))\n",
    "plt.imshow(rotate_im(img, -8))"
   ]
  },
  {
   "cell_type": "code",
   "execution_count": null,
   "metadata": {},
   "outputs": [],
   "source": [
    "padded_image = cv2.copyMakeBorder(img,\n",
    "                                      top=20,\n",
    "                                      bottom=20,\n",
    "                                      left=20,\n",
    "                                      right=20,\n",
    "                                      borderType=cv2.BORDER_CONSTANT,\n",
    "                                      value=(255., 255., 255.)\n",
    "            )\n",
    "\n",
    "padded_image.shape"
   ]
  },
  {
   "cell_type": "code",
   "execution_count": null,
   "metadata": {},
   "outputs": [],
   "source": []
  }
 ],
 "metadata": {
  "kernelspec": {
   "display_name": "Python 3",
   "language": "python",
   "name": "python3"
  },
  "language_info": {
   "codemirror_mode": {
    "name": "ipython",
    "version": 3
   },
   "file_extension": ".py",
   "mimetype": "text/x-python",
   "name": "python",
   "nbconvert_exporter": "python",
   "pygments_lexer": "ipython3",
   "version": "3.8.6"
  }
 },
 "nbformat": 4,
 "nbformat_minor": 4
}
